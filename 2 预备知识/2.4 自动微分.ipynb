{
 "cells": [
  {
   "cell_type": "code",
   "execution_count": 2,
   "id": "7591177b",
   "metadata": {},
   "outputs": [
    {
     "data": {
      "text/plain": [
       "tensor([0., 1., 2., 3.], requires_grad=True)"
      ]
     },
     "execution_count": 2,
     "metadata": {},
     "output_type": "execute_result"
    }
   ],
   "source": [
    "import torch\n",
    "\n",
    "x = torch.arange(4.0, requires_grad=True) # 声明requires_grad后可以通过grad属性查看梯度值\n",
    "x"
   ]
  },
  {
   "cell_type": "markdown",
   "id": "bddc90ae",
   "metadata": {},
   "source": [
    "创建的tensor是计算图中的叶子节点"
   ]
  },
  {
   "cell_type": "code",
   "execution_count": 3,
   "id": "50edd300",
   "metadata": {},
   "outputs": [
    {
     "data": {
      "text/plain": [
       "(None, None)"
      ]
     },
     "execution_count": 3,
     "metadata": {},
     "output_type": "execute_result"
    }
   ],
   "source": [
    "x.grad,x.grad_fn # 查看梯度，y关于x的导数放在这里"
   ]
  },
  {
   "cell_type": "markdown",
   "id": "707a0cd3",
   "metadata": {},
   "source": [
    "### 简单例子：求y=2XTX的梯度，梯度应为4X\n",
    "手动演算的方法：画出计算图，进行符号求导（设x=[x1,x2,x3,x4] y是标量，标量对向量求导是向量，求出导函数后带入x的值，便可得所要的梯度）"
   ]
  },
  {
   "cell_type": "code",
   "execution_count": 4,
   "id": "af10b8df",
   "metadata": {},
   "outputs": [
    {
     "data": {
      "text/plain": [
       "tensor(28., grad_fn=<MulBackward0>)"
      ]
     },
     "execution_count": 4,
     "metadata": {},
     "output_type": "execute_result"
    }
   ],
   "source": [
    "y = 2 * torch.dot(x, x) # y是关于x的标量函数，未知数是x，输出是个标量\n",
    "y   # y.grad_fn非空代表这个tensor是计算出来的"
   ]
  },
  {
   "cell_type": "code",
   "execution_count": 5,
   "id": "36d806d9",
   "metadata": {},
   "outputs": [
    {
     "data": {
      "text/plain": [
       "tensor([ 0.,  4.,  8., 12.])"
      ]
     },
     "execution_count": 5,
     "metadata": {},
     "output_type": "execute_result"
    }
   ],
   "source": [
    "# 调用反向传播函数来自动计算y关于x每个分量的梯度\n",
    "y.backward()\n",
    "x.grad  # 查看梯度"
   ]
  },
  {
   "cell_type": "code",
   "execution_count": 6,
   "id": "db71b846",
   "metadata": {},
   "outputs": [
    {
     "data": {
      "text/plain": [
       "tensor([True, True, True, True])"
      ]
     },
     "execution_count": 6,
     "metadata": {},
     "output_type": "execute_result"
    }
   ],
   "source": [
    "x.grad == 4 * x"
   ]
  },
  {
   "cell_type": "code",
   "execution_count": 7,
   "id": "dcabc1cd",
   "metadata": {},
   "outputs": [
    {
     "data": {
      "text/plain": [
       "tensor([1., 1., 1., 1.])"
      ]
     },
     "execution_count": 7,
     "metadata": {},
     "output_type": "execute_result"
    }
   ],
   "source": [
    "# 在默认情况下，PyTorch会累积梯度，我们需要清除之前的值\n",
    "x.grad.zero_() # 方法后以'_'结尾代表原地修改值\n",
    "y = x.sum()\n",
    "# 调用反向传播函数来自动计算y关于x每个分量的梯度\n",
    "y.backward()\n",
    "x.grad"
   ]
  },
  {
   "cell_type": "markdown",
   "id": "fe50ec21",
   "metadata": {},
   "source": [
    "## 非标量变量的反向传播（向量对向量求导=矩阵）\n",
    "在pytorch中有个简单的规定，不让向量对向量求导，只允许标量对向量求导。因此，一个向量调用backward()，则需要传入一个gradient参数。传入这个参数就是为了把向量对向量的求导转换为标量对向量的求导。"
   ]
  },
  {
   "cell_type": "markdown",
   "id": "66bfed4a",
   "metadata": {},
   "source": [
    "这里，我们的目的不是计算微分矩阵，而是单独计算批量中每个样本的偏导数之和。"
   ]
  },
  {
   "cell_type": "code",
   "execution_count": 8,
   "id": "46618556",
   "metadata": {},
   "outputs": [
    {
     "data": {
      "text/plain": [
       "tensor([0., 2., 4., 6.])"
      ]
     },
     "execution_count": 8,
     "metadata": {},
     "output_type": "execute_result"
    }
   ],
   "source": [
    "# 对非标量调用backward需要传入一个gradient参数，该参数指定微分函数关于self的梯度。\n",
    "# 本例只想求偏导数的和，所以传递一个1的梯度是合适的\n",
    "x.grad.zero_()\n",
    "y = x * x\n",
    "# 等价于y.backward(torch.ones(len(x))) \n",
    "# 由于 y @ torch.ones(len(x)) 就是 y.sum() 为标量，随后再backward()\n",
    "y.sum().backward()  \n",
    "x.grad"
   ]
  },
  {
   "cell_type": "markdown",
   "id": "8e61bd9b",
   "metadata": {},
   "source": [
    "### 分离计算"
   ]
  },
  {
   "cell_type": "code",
   "execution_count": 17,
   "id": "054d410d",
   "metadata": {},
   "outputs": [
    {
     "data": {
      "text/plain": [
       "tensor([True, True, True, True])"
      ]
     },
     "execution_count": 17,
     "metadata": {},
     "output_type": "execute_result"
    }
   ],
   "source": [
    "x.grad.zero_()\n",
    "y = x * x\n",
    "u = y.detach() # 把y这个tensor的值给u，u不进入计算图，u作为常数处理,u的值与y相同\n",
    "z = u * x\n",
    "\n",
    "z.sum().backward()\n",
    "x.grad == u"
   ]
  },
  {
   "cell_type": "markdown",
   "id": "63dfc132",
   "metadata": {},
   "source": [
    "## 控制流的梯度计算"
   ]
  },
  {
   "cell_type": "code",
   "execution_count": 9,
   "id": "112b56c6",
   "metadata": {},
   "outputs": [],
   "source": [
    "def f(a):\n",
    "    b = a * 2\n",
    "    while b.norm() < 1000: # norm()是范数：L1范数：所有元素的绝对值的求和 L2范数：所有元素的绝对值的平方和的开方\n",
    "        b = b * 2\n",
    "    if b.sum() > 0:\n",
    "        c = b\n",
    "    else:\n",
    "        c = 100 * b\n",
    "    return c"
   ]
  },
  {
   "cell_type": "code",
   "execution_count": 30,
   "id": "5a68796d",
   "metadata": {},
   "outputs": [
    {
     "data": {
      "text/plain": [
       "tensor(1.6182, requires_grad=True)"
      ]
     },
     "execution_count": 30,
     "metadata": {},
     "output_type": "execute_result"
    }
   ],
   "source": [
    "a = torch.randn(size=(), requires_grad=True)\n",
    "a"
   ]
  },
  {
   "cell_type": "code",
   "execution_count": 31,
   "id": "ddcef4b5",
   "metadata": {},
   "outputs": [],
   "source": [
    "d = f(a)\n",
    "d.backward()"
   ]
  },
  {
   "cell_type": "code",
   "execution_count": 33,
   "id": "13f850d1",
   "metadata": {},
   "outputs": [
    {
     "data": {
      "text/plain": [
       "(tensor(True), tensor(1024.))"
      ]
     },
     "execution_count": 33,
     "metadata": {},
     "output_type": "execute_result"
    }
   ],
   "source": [
    "a.grad == d / a , a.grad"
   ]
  },
  {
   "cell_type": "markdown",
   "id": "551e24ee",
   "metadata": {},
   "source": [
    "### 小结"
   ]
  },
  {
   "cell_type": "markdown",
   "id": "01830dc1",
   "metadata": {},
   "source": [
    "深度学习框架可以自动计算导数：我们首先将梯度附加到想要对其计算偏导数的变量上 require_grad = True，然后框架会跟踪这个tensor的计算，为我们保存相关的计算图，执行某个ta的反向传播函数，并访问得到的梯度。"
   ]
  }
 ],
 "metadata": {
  "kernelspec": {
   "display_name": "Python 3 (ipykernel)",
   "language": "python",
   "name": "python3"
  },
  "language_info": {
   "codemirror_mode": {
    "name": "ipython",
    "version": 3
   },
   "file_extension": ".py",
   "mimetype": "text/x-python",
   "name": "python",
   "nbconvert_exporter": "python",
   "pygments_lexer": "ipython3",
   "version": "3.8.16"
  }
 },
 "nbformat": 4,
 "nbformat_minor": 5
}
