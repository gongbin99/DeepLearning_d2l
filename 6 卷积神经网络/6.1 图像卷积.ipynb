{
 "cells": [
  {
   "cell_type": "markdown",
   "id": "76ba1ad7",
   "metadata": {},
   "source": [
    "## 二维互相关运算的实现"
   ]
  },
  {
   "cell_type": "code",
   "execution_count": 1,
   "id": "6f1492bc",
   "metadata": {},
   "outputs": [],
   "source": [
    "import torch\n",
    "from torch import nn\n",
    "from d2l import torch as d2l\n",
    "\n",
    "def corr2d(X, K):  \n",
    "    \"\"\"计算二维互相关运算\"\"\"\n",
    "    h, w = K.shape\n",
    "    # 初始化输出矩阵\n",
    "    Y = torch.zeros((X.shape[0] - h + 1, X.shape[1] - w + 1))\n",
    "    # 逐一计算输出矩阵中的各个元素值\n",
    "    for i in range(Y.shape[0]):\n",
    "        for j in range(Y.shape[1]):\n",
    "            Y[i, j] = (X[i:i + h, j:j + w] * K).sum() # X与K求点积再求和，stride=1\n",
    "    return Y"
   ]
  },
  {
   "attachments": {
    "image.png": {
     "image/png": "[encoded data removed]"
    }
   },
   "cell_type": "markdown",
   "id": "137e8e48",
   "metadata": {},
   "source": [
    "通过输入X以及卷积核K的shape能够计算出输出矩阵Y的尺寸![image.png](attachment:image.png)"
   ]
  },
  {
   "cell_type": "code",
   "execution_count": 2,
   "id": "7eb948fc",
   "metadata": {},
   "outputs": [
    {
     "data": {
      "text/plain": [
       "tensor([[19., 25.],\n",
       "        [37., 43.]])"
      ]
     },
     "execution_count": 2,
     "metadata": {},
     "output_type": "execute_result"
    }
   ],
   "source": [
    "# 验证二维互相关运算\n",
    "X = torch.tensor([[0.0, 1.0, 2.0], [3.0, 4.0, 5.0], [6.0, 7.0, 8.0]])\n",
    "K = torch.tensor([[0.0, 1.0], [2.0, 3.0]])\n",
    "corr2d(X, K)"
   ]
  },
  {
   "cell_type": "markdown",
   "id": "b8262539",
   "metadata": {},
   "source": [
    "## 卷积层Conv2D的实现\n",
    "卷积层对输入和卷积核权重进行互相关运算，并在添加标量偏置之后产生输出。卷积层中的两个被训练的参数是卷积核权重和标量偏置"
   ]
  },
  {
   "cell_type": "code",
   "execution_count": 3,
   "id": "b3d643fd",
   "metadata": {},
   "outputs": [],
   "source": [
    "class Conv2D(nn.Module):\n",
    "    def __init__(self, kernel_size):\n",
    "        super().__init__()\n",
    "        self.weight = nn.Parameter(torch.rand(kernel_size))\n",
    "        self.bias = nn.Parameter(torch.zeros(1))\n",
    "    \n",
    "    def forward(self, X):\n",
    "        return corr2d(X, self.weight) + self.bias"
   ]
  },
  {
   "cell_type": "markdown",
   "id": "aff2a87c",
   "metadata": {},
   "source": [
    "## 图像中目标的边缘检测"
   ]
  },
  {
   "cell_type": "code",
   "execution_count": 4,
   "id": "ff89a530",
   "metadata": {},
   "outputs": [
    {
     "data": {
      "text/plain": [
       "tensor([[1., 1., 0., 0., 0., 0., 1., 1.],\n",
       "        [1., 1., 0., 0., 0., 0., 1., 1.],\n",
       "        [1., 1., 0., 0., 0., 0., 1., 1.],\n",
       "        [1., 1., 0., 0., 0., 0., 1., 1.],\n",
       "        [1., 1., 0., 0., 0., 0., 1., 1.],\n",
       "        [1., 1., 0., 0., 0., 0., 1., 1.]])"
      ]
     },
     "execution_count": 4,
     "metadata": {},
     "output_type": "execute_result"
    }
   ],
   "source": [
    "# 简单应用：通过像素变化的位置，检测图像中不同颜色的边缘，0-黑色，1-白色\n",
    "X = torch.ones((6, 8))\n",
    "X[:, 2:6] = 0\n",
    "X"
   ]
  },
  {
   "cell_type": "code",
   "execution_count": 7,
   "id": "893c02d8",
   "metadata": {},
   "outputs": [],
   "source": [
    "# 手动设计能实现此功能的卷积核，如果水平相邻的两元素相同，则输出为零，否则输出为非零。(只能检测垂直边缘)\n",
    "K = torch.tensor([[1.0, -1.0]])"
   ]
  },
  {
   "cell_type": "code",
   "execution_count": 8,
   "id": "a4f9358b",
   "metadata": {
    "scrolled": true
   },
   "outputs": [
    {
     "data": {
      "text/plain": [
       "tensor([[ 0.,  1.,  0.,  0.,  0., -1.,  0.],\n",
       "        [ 0.,  1.,  0.,  0.,  0., -1.,  0.],\n",
       "        [ 0.,  1.,  0.,  0.,  0., -1.,  0.],\n",
       "        [ 0.,  1.,  0.,  0.,  0., -1.,  0.],\n",
       "        [ 0.,  1.,  0.,  0.,  0., -1.,  0.],\n",
       "        [ 0.,  1.,  0.,  0.,  0., -1.,  0.]])"
      ]
     },
     "execution_count": 8,
     "metadata": {},
     "output_type": "execute_result"
    }
   ],
   "source": [
    "# 输出是6 x 7\n",
    "Y = corr2d(X, K)\n",
    "Y"
   ]
  },
  {
   "cell_type": "code",
   "execution_count": 9,
   "id": "b6647c60",
   "metadata": {},
   "outputs": [
    {
     "data": {
      "text/plain": [
       "tensor([[0., 0., 0., 0., 0.],\n",
       "        [0., 0., 0., 0., 0.],\n",
       "        [0., 0., 0., 0., 0.],\n",
       "        [0., 0., 0., 0., 0.],\n",
       "        [0., 0., 0., 0., 0.],\n",
       "        [0., 0., 0., 0., 0.],\n",
       "        [0., 0., 0., 0., 0.],\n",
       "        [0., 0., 0., 0., 0.]])"
      ]
     },
     "execution_count": 9,
     "metadata": {},
     "output_type": "execute_result"
    }
   ],
   "source": [
    "corr2d(X.t(), K) # 显然此卷积核无法检测水平边缘"
   ]
  },
  {
   "cell_type": "markdown",
   "id": "5f7ebf19",
   "metadata": {},
   "source": [
    "## 学习出卷积核\n",
    "通过仅查看“输入-输出”来学习由X生成Y的卷积核"
   ]
  },
  {
   "cell_type": "code",
   "execution_count": 12,
   "id": "01432a6b",
   "metadata": {},
   "outputs": [
    {
     "name": "stdout",
     "output_type": "stream",
     "text": [
      "epoch 2, loss 9.096\n",
      "epoch 4, loss 1.550\n",
      "epoch 6, loss 0.270\n",
      "epoch 8, loss 0.049\n",
      "epoch 10, loss 0.010\n"
     ]
    }
   ],
   "source": [
    "# 构造一个二维卷积层，它具有1个输入通道，1个输出通道和形状为（1，2）的卷积核\n",
    "conv2d = nn.Conv2d(1, 1, kernel_size=(1, 2), bias=False)\n",
    "\n",
    "# 这个二维卷积层使用四维输入和输出格式（批量大小batch_size、通道channel、高度h、宽度w），\n",
    "# 此处的批量大小和通道数都为1\n",
    "X = X.reshape((1, 1, 6, 8))\n",
    "Y = Y.reshape((1, 1, 6, 7)) # Y的h和w是通过X与K计算出来的\n",
    "lr = 3e-2 # 学习率\n",
    "\n",
    "for i in range(10):\n",
    "    Y_hat = conv2d(X)\n",
    "    l = (Y_hat - Y) ** 2  # 均方误差\n",
    "    conv2d.zero_grad()\n",
    "    l.sum().backward()\n",
    "    # 梯度下降,迭代卷积核参数\n",
    "    conv2d.weight.data[:] -= lr * conv2d.weight.grad\n",
    "    if (i + 1) % 2 == 0:\n",
    "        print(f'epoch {i+1}, loss {l.sum():.3f}')"
   ]
  },
  {
   "cell_type": "code",
   "execution_count": 13,
   "id": "a1fb0fba",
   "metadata": {},
   "outputs": [
    {
     "data": {
      "text/plain": [
       "tensor([[ 0.9899, -0.9789]])"
      ]
     },
     "execution_count": 13,
     "metadata": {},
     "output_type": "execute_result"
    }
   ],
   "source": [
    "conv2d.weight.data.reshape(1, 2)"
   ]
  },
  {
   "cell_type": "markdown",
   "id": "b4824c1a",
   "metadata": {},
   "source": [
    "我们学习到的卷积核权重非常接近我们之前定义的卷积核K"
   ]
  },
  {
   "cell_type": "markdown",
   "id": "7eba24a6",
   "metadata": {},
   "source": [
    "学习卷积核时，无论用严格卷积运算或互相关运算，卷积层的输出不会受太大影响"
   ]
  },
  {
   "cell_type": "markdown",
   "id": "c2a1b178",
   "metadata": {},
   "source": [
    "当需要检测输入特征中更广区域时，我们可以构建一个更深的卷积网络"
   ]
  },
  {
   "cell_type": "code",
   "execution_count": null,
   "outputs": [],
   "source": [],
   "metadata": {
    "collapsed": false,
    "pycharm": {
     "name": "#%%\n"
    }
   }
  }
 ],
 "metadata": {
  "kernelspec": {
   "display_name": "Python 3 (ipykernel)",
   "language": "python",
   "name": "python3"
  },
  "language_info": {
   "codemirror_mode": {
    "name": "ipython",
    "version": 3
   },
   "file_extension": ".py",
   "mimetype": "text/x-python",
   "name": "python",
   "nbconvert_exporter": "python",
   "pygments_lexer": "ipython3",
   "version": "3.8.16"
  }
 },
 "nbformat": 4,
 "nbformat_minor": 5
}