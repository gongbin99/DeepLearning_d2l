{
 "cells": [
  {
   "cell_type": "code",
   "execution_count": 3,
   "id": "47fc9906",
   "metadata": {},
   "outputs": [],
   "source": [
    "import numpy as np\n",
    "import torch\n",
    "from torch.utils import data\n",
    "\n",
    "def synthetic_data(w, b, num_examples):  \n",
    "    \"\"\"生成y=Xw+b+噪声\"\"\"\n",
    "    X = torch.normal(0, 1, (num_examples, len(w))) # 生成特征矩阵\n",
    "    y = torch.matmul(X, w) + b  # 真实值\n",
    "    y += torch.normal(0, 0.01, y.shape) # 增加噪声\n",
    "    return X, y.reshape((-1, 1)) # reshape保证y是二维，自动推导维度0的尺寸"
   ]
  },
  {
   "cell_type": "markdown",
   "id": "94fd331e",
   "metadata": {},
   "source": [
    "### 生成数据集"
   ]
  },
  {
   "cell_type": "code",
   "execution_count": 4,
   "id": "f9a62c32",
   "metadata": {},
   "outputs": [
    {
     "data": {
      "text/plain": [
       "tensor([[-0.1694, -2.0079],\n",
       "        [-0.2227, -0.6855],\n",
       "        [ 0.9193, -0.0735],\n",
       "        ...,\n",
       "        [ 0.7175, -1.0777],\n",
       "        [ 0.5484, -0.1222],\n",
       "        [ 0.8781,  1.0120]])"
      ]
     },
     "execution_count": 4,
     "metadata": {},
     "output_type": "execute_result"
    }
   ],
   "source": [
    "true_w = torch.tensor([2, -3.4]) # 真实的权值值\n",
    "true_b = 4.2 # 真实的偏置的值\n",
    "features, labels = synthetic_data(true_w, true_b, 1000) # 获得数据集\n",
    "features # 1000 x 2"
   ]
  },
  {
   "cell_type": "markdown",
   "id": "15aee901",
   "metadata": {},
   "source": [
    "### 读取数据集"
   ]
  },
  {
   "cell_type": "code",
   "execution_count": 5,
   "id": "a1d8e847",
   "metadata": {},
   "outputs": [],
   "source": [
    "def load_array(data_arrays, batch_size, is_train=True):\n",
    "    \"\"\"构造一个PyTorch数据迭代器\"\"\"\n",
    "    dataset = data.TensorDataset(*data_arrays)\n",
    "    return data.DataLoader(dataset, batch_size, shuffle=is_train)\n",
    "\n",
    "batch_size = 10\n",
    "data_iter = load_array((features, labels), batch_size)"
   ]
  },
  {
   "cell_type": "code",
   "execution_count": 6,
   "id": "cbbfdc0f",
   "metadata": {},
   "outputs": [
    {
     "data": {
      "text/plain": [
       "[tensor([[-0.7855,  0.5108],\n",
       "         [-0.2804, -1.6360],\n",
       "         [-0.2227, -0.6855],\n",
       "         [-1.1871, -1.6714],\n",
       "         [-0.3960,  0.1546],\n",
       "         [-1.2611, -0.5265],\n",
       "         [ 0.0489, -0.3879],\n",
       "         [-0.4074,  0.7234],\n",
       "         [-1.0118,  0.2661],\n",
       "         [-0.5243,  0.5970]]),\n",
       " tensor([[0.9010],\n",
       "         [9.1935],\n",
       "         [6.0616],\n",
       "         [7.4999],\n",
       "         [2.8803],\n",
       "         [3.4677],\n",
       "         [5.6018],\n",
       "         [0.9226],\n",
       "         [1.2755],\n",
       "         [1.1188]])]"
      ]
     },
     "execution_count": 6,
     "metadata": {},
     "output_type": "execute_result"
    }
   ],
   "source": [
    "next(iter(data_iter))"
   ]
  },
  {
   "cell_type": "markdown",
   "id": "808901cc",
   "metadata": {},
   "source": [
    "### 定义模型\n",
    "我们只需关注使用哪些层来构造模型，而不必关注层的实现细节。比如说模型参数的创建以及初始化都是根据自动完成的"
   ]
  },
  {
   "cell_type": "code",
   "execution_count": 7,
   "id": "9e104c0b",
   "metadata": {},
   "outputs": [],
   "source": [
    "# nn是神经网络的缩写\n",
    "from torch import nn\n",
    "\n",
    "net = nn.Sequential(nn.Linear(2, 1))"
   ]
  },
  {
   "cell_type": "markdown",
   "id": "f2419d90",
   "metadata": {},
   "source": [
    "### 初始化模型参数"
   ]
  },
  {
   "cell_type": "code",
   "execution_count": 8,
   "id": "f0de0e5b",
   "metadata": {},
   "outputs": [
    {
     "data": {
      "text/plain": [
       "tensor([0.])"
      ]
     },
     "execution_count": 8,
     "metadata": {},
     "output_type": "execute_result"
    }
   ],
   "source": [
    "# 方法_ ：会修改对象的值\n",
    "# 我们可以通过_结尾的方法将参数替换，从而初始化参数。\n",
    "net[0].weight.data.normal_(0, 0.01) # 正态分布\n",
    "net[0].bias.data.fill_(0)"
   ]
  },
  {
   "cell_type": "markdown",
   "id": "74d0af12",
   "metadata": {},
   "source": [
    "### 定义损失函数"
   ]
  },
  {
   "cell_type": "code",
   "execution_count": 9,
   "id": "3f593205",
   "metadata": {},
   "outputs": [],
   "source": [
    "loss = nn.MSELoss(reduction='none') # 默认情况下，它返回所有样本损失的平均值。"
   ]
  },
  {
   "cell_type": "markdown",
   "id": "d72b6142",
   "metadata": {},
   "source": [
    "### 定义优化算法 SGD"
   ]
  },
  {
   "cell_type": "code",
   "execution_count": 10,
   "id": "08a90c5f",
   "metadata": {},
   "outputs": [],
   "source": [
    "trainer = torch.optim.SGD(net.parameters(), lr=0.003)"
   ]
  },
  {
   "cell_type": "markdown",
   "id": "0b057059",
   "metadata": {},
   "source": [
    "### 训练\n",
    "通过深度学习框架的高级API来实现我们的模型只需要相对较少的代码。 我们不必单独分配参数、不必从头定义我们的损失函数，也不必手动实现小批量随机梯度下降。 当我们需要更复杂的模型时，高级API的优势将大大增加。 "
   ]
  },
  {
   "cell_type": "code",
   "execution_count": 11,
   "id": "0b8ba640",
   "metadata": {},
   "outputs": [
    {
     "name": "stdout",
     "output_type": "stream",
     "text": [
      "epoch 1, loss 0.000203\n",
      "epoch 2, loss 0.000098\n",
      "epoch 3, loss 0.000097\n"
     ]
    }
   ],
   "source": [
    "num_epochs = 3\n",
    "for epoch in range(num_epochs):\n",
    "    for X, y in data_iter:\n",
    "        l = loss(net(X), y) #计算这一批数据的损失\n",
    "        trainer.zero_grad() # 将参数梯度清零，避免累计梯度的情况\n",
    "        l.sum().backward() # 反向传播计算梯度，有了梯度才能知道参数要如何更新才能使得loss最小\n",
    "        trainer.step() # 更新参数\n",
    "    \n",
    "    # 一个epoch后，查看在整个训练集上的平均损失\n",
    "    l = loss(net(features), labels)\n",
    "    print(f'epoch {epoch + 1}, loss {l.mean():f}')"
   ]
  },
  {
   "cell_type": "code",
   "execution_count": 12,
   "id": "0fff365e",
   "metadata": {},
   "outputs": [
    {
     "name": "stdout",
     "output_type": "stream",
     "text": [
      "w的估计误差： tensor([-0.0004,  0.0003])\n",
      "b的估计误差： tensor([-0.0002])\n"
     ]
    }
   ],
   "source": [
    "w = net[0].weight.data\n",
    "print('w的估计误差：', true_w - w.reshape(true_w.shape))\n",
    "b = net[0].bias.data\n",
    "print('b的估计误差：', true_b - b)"
   ]
  },
  {
   "cell_type": "code",
   "execution_count": 13,
   "id": "8c583867",
   "metadata": {},
   "outputs": [
    {
     "data": {
      "text/plain": [
       "(tensor([[ 2.0004, -3.4003]]), tensor([4.2002]))"
      ]
     },
     "execution_count": 13,
     "metadata": {},
     "output_type": "execute_result"
    }
   ],
   "source": [
    "w, b # 很接近真实值了"
   ]
  },
  {
   "cell_type": "markdown",
   "id": "b451fea2",
   "metadata": {},
   "source": [
    "## 练习题"
   ]
  },
  {
   "cell_type": "markdown",
   "id": "5fc730a7",
   "metadata": {},
   "source": [
    "1.如果我们用nn.MSELoss(reduction='sum')替换 nn.MSELoss()”为了使代码的行为相同，需要怎么更改学习速率？为什么？"
   ]
  },
  {
   "cell_type": "markdown",
   "id": "d36dea5c",
   "metadata": {},
   "source": [
    "应该把学习率除batch_size。因为如果损失函数不是求均值，而是只求和，然后进行反向传播，那么相当于求的梯度比原来扩大了batch_size倍，代入梯度下降算法更新参数的公式，便发现这个变化可以相当于是学习率大小大了batch_size倍。因此如果想使l.sum().backward()得到与l.mean().backward()同样的更新效果，需要把学习率降低batch_size倍"
   ]
  },
  {
   "cell_type": "markdown",
   "id": "cbb4fd8f",
   "metadata": {},
   "source": [
    "由此可见，损失函数使用l.sum()或者l.mean()其实差不多，无非是对于等效的参数更新，两者的学习率刚好差batch_size倍，调参能够调出一样的效果"
   ]
  },
  {
   "attachments": {
    "image-2.png": {
     "image/png": "[encoded data removed]"
    },
    "image.png": {
     "image/png": "[encoded data removed]"
    }
   },
   "cell_type": "markdown",
   "id": "c329c4dd",
   "metadata": {},
   "source": [
    "l.mean().backward() lr=0.03\n",
    "![image.png](attachment:image.png)\n",
    "l.sum().backward()  lr=0.003\n",
    "![image-2.png](attachment:image-2.png)"
   ]
  }
 ],
 "metadata": {
  "kernelspec": {
   "display_name": "Python 3 (ipykernel)",
   "language": "python",
   "name": "python3"
  },
  "language_info": {
   "codemirror_mode": {
    "name": "ipython",
    "version": 3
   },
   "file_extension": ".py",
   "mimetype": "text/x-python",
   "name": "python",
   "nbconvert_exporter": "python",
   "pygments_lexer": "ipython3",
   "version": "3.8.17"
  }
 },
 "nbformat": 4,
 "nbformat_minor": 5
}
