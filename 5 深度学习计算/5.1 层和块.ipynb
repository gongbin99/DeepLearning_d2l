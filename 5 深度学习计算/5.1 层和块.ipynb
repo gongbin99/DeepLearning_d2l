{
 "cells": [
  {
   "cell_type": "code",
   "execution_count": 2,
   "id": "1ba18471",
   "metadata": {},
   "outputs": [
    {
     "data": {
      "text/plain": [
       "tensor([[-0.1732, -0.0013,  0.0949, -0.1733,  0.2603, -0.0388, -0.1496, -0.2707,\n",
       "          0.2335, -0.0467],\n",
       "        [-0.1703,  0.1043,  0.1591, -0.1438,  0.1208,  0.0669, -0.0835, -0.3359,\n",
       "          0.1329, -0.0353]], grad_fn=<AddmmBackward>)"
      ]
     },
     "execution_count": 2,
     "metadata": {},
     "output_type": "execute_result"
    }
   ],
   "source": [
    "import torch\n",
    "from torch import nn\n",
    "from torch.nn import functional as F\n",
    "\n",
    "# 实例化nn.Sequential来构建我们的模型\n",
    "net = nn.Sequential(nn.Linear(20, 256), nn.ReLU(), nn.Linear(256, 10))\n",
    "\n",
    "X = torch.rand(2, 20) # 生成2*20的张量\n",
    "net(X)"
   ]
  },
  {
   "cell_type": "markdown",
   "id": "4ef639a5",
   "metadata": {},
   "source": [
    "## 自定义块实现上面nn.Sequential的功能"
   ]
  },
  {
   "cell_type": "code",
   "execution_count": 3,
   "id": "f6959ee1",
   "metadata": {},
   "outputs": [
    {
     "data": {
      "text/plain": [
       "tensor([[ 0.0340,  0.0295,  0.3688, -0.1773, -0.0219, -0.4991, -0.1923, -0.0603,\n",
       "         -0.3021, -0.1542],\n",
       "        [ 0.1218,  0.0730,  0.2997, -0.2584, -0.0041, -0.4738, -0.1215, -0.1146,\n",
       "         -0.2262, -0.1472]], grad_fn=<AddmmBackward>)"
      ]
     },
     "execution_count": 3,
     "metadata": {},
     "output_type": "execute_result"
    }
   ],
   "source": [
    "class MLP(nn.Module):\n",
    "    def __init__(self):\n",
    "        # 调用MLP的父类Module的构造函数来执行必要的初始化。\n",
    "        super().__init__()\n",
    "        self.hidden = nn.Linear(20, 256) # 隐藏层，使用nn.Linear自动帮我们生成了所需的权重矩阵、偏置,且有默认的参数初始化\n",
    "        self.out = nn.Linear(256, 10) # 输出层\n",
    "    \n",
    "    def forward(self, X):\n",
    "        return self.out(F.relu(self.hidden(X)))\n",
    "\n",
    "net = MLP()\n",
    "net(X)"
   ]
  },
  {
   "cell_type": "markdown",
   "id": "7b45c95f",
   "metadata": {},
   "source": [
    "## 顺序块nn.Sequential的实现原理"
   ]
  },
  {
   "cell_type": "code",
   "execution_count": 4,
   "id": "c2f60579",
   "metadata": {},
   "outputs": [
    {
     "data": {
      "text/plain": [
       "tensor([[-0.1791,  0.0017,  0.2754, -0.0058, -0.0905,  0.2018,  0.1406, -0.1256,\n",
       "         -0.1665,  0.2240],\n",
       "        [-0.0798, -0.0077,  0.1465,  0.0199, -0.0561,  0.2853,  0.0881, -0.1341,\n",
       "         -0.1434,  0.1432]], grad_fn=<AddmmBackward>)"
      ]
     },
     "execution_count": 4,
     "metadata": {},
     "output_type": "execute_result"
    }
   ],
   "source": [
    "class MySequential(nn.Module):\n",
    "    def __init__(self, *args):\n",
    "        \"\"\"*args:继承nn.Nodule的子类实例\"\"\"\n",
    "        super().__init__()\n",
    "        for idx, module in enumerate(args):\n",
    "            # 这里，module是Module子类的一个实例。我们把它保存在 Module类的成员变量_modules中。\n",
    "            # _module的类型是OrderedDict（有序的字典）\n",
    "            # _modules的主要优点是： 在模块的参数初始化过程中，系统知道在_modules字典中查找需要初始化参数的子块。\n",
    "            self._modules[str(idx)] = module\n",
    "    \n",
    "    def forward(self, X):\n",
    "        # OrderedDict保证了按照成员添加的顺序遍历它们\n",
    "        for block in self._modules.values():\n",
    "            X = block(X)\n",
    "        return X\n",
    "    \n",
    "net = MySequential(nn.Linear(20, 256), nn.ReLU(), nn.Linear(256, 10))\n",
    "net(X)"
   ]
  },
  {
   "cell_type": "markdown",
   "id": "93b25d88",
   "metadata": {},
   "source": [
    "## 不是所有架构都是简单的顺序架构，自定义块拥有更强的灵活性"
   ]
  },
  {
   "cell_type": "code",
   "execution_count": 5,
   "id": "4d670a94",
   "metadata": {},
   "outputs": [
    {
     "data": {
      "text/plain": [
       "tensor(0.3314, grad_fn=<SumBackward0>)"
      ]
     },
     "execution_count": 5,
     "metadata": {},
     "output_type": "execute_result"
    }
   ],
   "source": [
    "class FixedHiddenMLP(nn.Module):\n",
    "    def __init__(self):\n",
    "        super().__init__()\n",
    "        # 不计算梯度的随机权重参数，其在训练期间保持不变\n",
    "        self.rand_weight = torch.rand((20, 20), requires_grad=False) \n",
    "        self.linear = nn.Linear(20, 20)\n",
    "\n",
    "    def forward(self, X):\n",
    "        X = self.linear(X)\n",
    "        # 使用创建的常量参数和固定值的bias=1来模拟了一个全连接层的功能，随后通过relu\n",
    "        X = F.relu(torch.mm(X, self.rand_weight) + 1)\n",
    "        # 复用全连接层。这相当于两个全连接层共享参数（同一个nn.Linear的对象，参数肯定一样）\n",
    "        X = self.linear(X)\n",
    "        # 控制流\n",
    "        while X.abs().sum() > 1:\n",
    "            X /= 2\n",
    "        return X.sum() # 标量\n",
    "\n",
    "net = FixedHiddenMLP()\n",
    "net(X)"
   ]
  }
 ],
 "metadata": {
  "kernelspec": {
   "display_name": "Python 3 (ipykernel)",
   "language": "python",
   "name": "python3"
  },
  "language_info": {
   "codemirror_mode": {
    "name": "ipython",
    "version": 3
   },
   "file_extension": ".py",
   "mimetype": "text/x-python",
   "name": "python",
   "nbconvert_exporter": "python",
   "pygments_lexer": "ipython3",
   "version": "3.8.16"
  }
 },
 "nbformat": 4,
 "nbformat_minor": 5
}
