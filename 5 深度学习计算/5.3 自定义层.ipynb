{
 "cells": [
  {
   "cell_type": "markdown",
   "id": "a61379f5",
   "metadata": {},
   "source": [
    "## 不带参数的层（类似激活函数ReLU）"
   ]
  },
  {
   "cell_type": "code",
   "execution_count": 1,
   "id": "d77efa15",
   "metadata": {},
   "outputs": [
    {
     "data": {
      "text/plain": [
       "tensor([-2., -1.,  0.,  1.,  2.])"
      ]
     },
     "execution_count": 1,
     "metadata": {},
     "output_type": "execute_result"
    }
   ],
   "source": [
    "import torch\n",
    "import torch.nn.functional as F\n",
    "from torch import nn\n",
    "\n",
    "\n",
    "class CenteredLayer(nn.Module): # 与自定义块相同，都是继承nn.Module并实现init以及forward方法\n",
    "    def __init__(self):\n",
    "        super().__init__()\n",
    "\n",
    "    def forward(self, X):\n",
    "        # 将X各分量减去其均值\n",
    "        return X - X.mean()\n",
    "    \n",
    "layer = CenteredLayer()\n",
    "layer(torch.FloatTensor([1, 2, 3, 4, 5]))"
   ]
  },
  {
   "cell_type": "code",
   "execution_count": 2,
   "id": "534eded0",
   "metadata": {},
   "outputs": [
    {
     "data": {
      "text/plain": [
       "tensor(-1.8626e-09, grad_fn=<MeanBackward0>)"
      ]
     },
     "execution_count": 2,
     "metadata": {},
     "output_type": "execute_result"
    }
   ],
   "source": [
    "net = nn.Sequential(nn.Linear(8, 128), CenteredLayer())\n",
    "Y = net(torch.rand(4, 8))\n",
    "Y.mean()"
   ]
  },
  {
   "cell_type": "markdown",
   "id": "ec4d7718",
   "metadata": {},
   "source": [
    "## 带参数的层（类似全连接层nn.Linear）"
   ]
  },
  {
   "cell_type": "code",
   "execution_count": 10,
   "id": "a7e90224",
   "metadata": {},
   "outputs": [],
   "source": [
    "# 实现自定义的全连接层 + ReLU的合体版\n",
    "class MyLinear(nn.Module):\n",
    "    # 需要参数的层初始化需要用户传入：1、输入特征维度 2、输出特征维度 以此计算出W和bias的尺寸\n",
    "    def __init__(self, in_units, units):\n",
    "        super().__init__()\n",
    "        # 初始化完成后创建nn.Parameter的实例\n",
    "        self.weight = nn.Parameter(torch.randn(in_units, units))\n",
    "        self.bias = nn.Parameter(torch.randn(units,))\n",
    "        \n",
    "    def forward(self, X):\n",
    "        # 线性组合 out = XW + b\n",
    "        linear = torch.matmul(X, self.weight.data) + self.bias.data\n",
    "        return F.relu(linear) # 再通过一层relu"
   ]
  },
  {
   "cell_type": "code",
   "execution_count": 11,
   "id": "d293ee9d",
   "metadata": {},
   "outputs": [
    {
     "data": {
      "text/plain": [
       "(tensor([[-0.7956,  0.3592, -1.4090],\n",
       "         [ 0.8709,  1.1065,  1.4657],\n",
       "         [-0.8068, -0.8250, -1.1996],\n",
       "         [ 0.8360,  2.0786, -0.8493],\n",
       "         [ 0.2631, -0.0271, -1.7235]]),\n",
       " tensor([ 1.1163, -1.1776,  1.3631]))"
      ]
     },
     "execution_count": 11,
     "metadata": {},
     "output_type": "execute_result"
    }
   ],
   "source": [
    "linear = MyLinear(5, 3)\n",
    "linear.weight.data, linear.bias.data"
   ]
  },
  {
   "cell_type": "code",
   "execution_count": 12,
   "id": "0423c430",
   "metadata": {},
   "outputs": [
    {
     "data": {
      "text/plain": [
       "tensor([[1.3131, 0.0000, 0.7983],\n",
       "        [1.3378, 0.4840, 0.0984]])"
      ]
     },
     "execution_count": 12,
     "metadata": {},
     "output_type": "execute_result"
    }
   ],
   "source": [
    "linear(torch.rand(2, 5))"
   ]
  },
  {
   "cell_type": "code",
   "execution_count": 15,
   "id": "0a386772",
   "metadata": {},
   "outputs": [
    {
     "data": {
      "text/plain": [
       "tensor([[0.],\n",
       "        [0.]])"
      ]
     },
     "execution_count": 15,
     "metadata": {},
     "output_type": "execute_result"
    }
   ],
   "source": [
    "net = nn.Sequential(MyLinear(64, 8), \n",
    "                    MyLinear(8, 1))\n",
    "net(torch.rand(2, 64))"
   ]
  }
 ],
 "metadata": {
  "kernelspec": {
   "display_name": "Python 3 (ipykernel)",
   "language": "python",
   "name": "python3"
  },
  "language_info": {
   "codemirror_mode": {
    "name": "ipython",
    "version": 3
   },
   "file_extension": ".py",
   "mimetype": "text/x-python",
   "name": "python",
   "nbconvert_exporter": "python",
   "pygments_lexer": "ipython3",
   "version": "3.8.16"
  }
 },
 "nbformat": 4,
 "nbformat_minor": 5
}
